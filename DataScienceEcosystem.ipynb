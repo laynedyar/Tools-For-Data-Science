{
 "cells": [
  {
   "cell_type": "markdown",
   "id": "5d43ec6a",
   "metadata": {},
   "source": [
    "# Data Science Tools and Ecosystem"
   ]
  },
  {
   "cell_type": "markdown",
   "id": "14c204a9",
   "metadata": {},
   "source": [
    "In this notebook, Data Science Tools and Ecosystem are summarized."
   ]
  },
  {
   "cell_type": "markdown",
   "id": "31f1040a",
   "metadata": {},
   "source": [
    "## Objectives:\n",
    "- List popular languages for data science\n",
    "- List libraries commonly used by data scientists\n",
    "- List data science tools\n",
    "- Create lists\n",
    "- Create tables"
   ]
  },
  {
   "cell_type": "markdown",
   "id": "43a86efc",
   "metadata": {},
   "source": [
    "#### Some of the popular languages that Data Scientists use are:\n",
    "    1. Python\n",
    "    2. C++\n",
    "    3. Java\n",
    "    4. SQL"
   ]
  },
  {
   "cell_type": "markdown",
   "id": "df32d75c",
   "metadata": {},
   "source": [
    "#### Some of the commonly used libraries used by Data Scientists include:\n",
    "1. Apache Spark\n",
    "2. Scikit-learn\n",
    "3. Keras\n",
    "4. TensorFlow"
   ]
  },
  {
   "cell_type": "markdown",
   "id": "14726eee",
   "metadata": {},
   "source": [
    "|Data Science Tools|\n",
    "|------------------|\n",
    "|Model Asset eXchange|\n",
    "|MAX model-serving microservices|\n",
    "|IBM Data Asset eXchange|"
   ]
  },
  {
   "cell_type": "markdown",
   "id": "18fb8003",
   "metadata": {},
   "source": [
    "### Below are a few examples of evaluating arithmetic expressions in Python"
   ]
  },
  {
   "cell_type": "code",
   "execution_count": 1,
   "id": "a76370d8",
   "metadata": {},
   "outputs": [
    {
     "data": {
      "text/plain": [
       "17"
      ]
     },
     "execution_count": 1,
     "metadata": {},
     "output_type": "execute_result"
    }
   ],
   "source": [
    "# This is a simple arithmetic expression to multiply then add integers\n",
    "(3*4)+5"
   ]
  },
  {
   "cell_type": "code",
   "execution_count": 2,
   "id": "a3398572",
   "metadata": {},
   "outputs": [
    {
     "data": {
      "text/plain": [
       "3.3333333333333335"
      ]
     },
     "execution_count": 2,
     "metadata": {},
     "output_type": "execute_result"
    }
   ],
   "source": [
    "# This will convert 200 minutes to hours by dividing by 60\n",
    "200/60"
   ]
  },
  {
   "cell_type": "markdown",
   "id": "67127ba3",
   "metadata": {},
   "source": [
    "## Author\n",
    "Emily Elayne Dyar"
   ]
  },
  {
   "cell_type": "code",
   "execution_count": null,
   "id": "bf7bbf59",
   "metadata": {},
   "outputs": [],
   "source": []
  }
 ],
 "metadata": {
  "kernelspec": {
   "display_name": "Python 3 (ipykernel)",
   "language": "python",
   "name": "python3"
  },
  "language_info": {
   "codemirror_mode": {
    "name": "ipython",
    "version": 3
   },
   "file_extension": ".py",
   "mimetype": "text/x-python",
   "name": "python",
   "nbconvert_exporter": "python",
   "pygments_lexer": "ipython3",
   "version": "3.10.10"
  }
 },
 "nbformat": 4,
 "nbformat_minor": 5
}
